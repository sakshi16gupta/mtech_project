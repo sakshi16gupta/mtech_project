{
 "cells": [
  {
   "cell_type": "code",
   "execution_count": 1,
   "id": "890e1db5",
   "metadata": {},
   "outputs": [
    {
     "name": "stderr",
     "output_type": "stream",
     "text": [
      "/opt/anaconda3/envs/fdk_env/lib/python3.9/site-packages/tqdm/auto.py:21: TqdmWarning: IProgress not found. Please update jupyter and ipywidgets. See https://ipywidgets.readthedocs.io/en/stable/user_install.html\n",
      "  from .autonotebook import tqdm as notebook_tqdm\n"
     ]
    }
   ],
   "source": [
    "import pandas as pd\n",
    "import pickle\n",
    "from sentence_transformers import SentenceTransformer"
   ]
  },
  {
   "cell_type": "code",
   "execution_count": 2,
   "id": "2cbf5c04",
   "metadata": {},
   "outputs": [],
   "source": [
    "def main():\n",
    "    #--> Reading preprocessed Data\n",
    "    df_updated = pd.read_csv(\n",
    "        filepath_or_buffer = \"../Preprocessed/processed_dataset.csv\",\n",
    "    )\n",
    "\n",
    "    # Creating corpus of short description and long description\n",
    "    short_description_corpus = list(df_updated[\"WO Description\"].drop_duplicates())\n",
    "    cause_object_corpus = list(df_updated[\"Cause object\"].drop_duplicates())\n",
    "    \n",
    "    # Import the Symmetric SentenceTransformer model\n",
    "    symmetric_embedder = SentenceTransformer(\"all-MiniLM-L6-v2\")\n",
    "\n",
    "    # Import the Asymmetric SentenceTransformer model\n",
    "    asymmetric_embedder = SentenceTransformer(\"msmarco-distilbert-base-v4\") \n",
    "\n",
    "    # Create embedded corpus for preprocessed data - short description\n",
    "    short_description_corpus_embeddings = symmetric_embedder.encode(\n",
    "                                sentences = short_description_corpus, \n",
    "                                convert_to_tensor=True\n",
    "    )\n",
    "\n",
    "    # Create embedded corpus for preproocessed data - cause object\n",
    "    cause_object_corpus_embeddings = symmetric_embedder.encode(\n",
    "                                sentences = cause_object_corpus, \n",
    "                                convert_to_tensor=True\n",
    "    )\n",
    "\n",
    "    # Dump the models into output directory\n",
    "    pickle.dump( symmetric_embedder, \n",
    "        open((\"symmetric_model.pkl\"),\"wb\")\n",
    "    )\n",
    "    \n",
    "    pickle.dump(asymmetric_embedder, \n",
    "        open((\"asymmetric_model.pkl\"),\"wb\")\n",
    "    ) \n",
    "\n",
    "    # Dump the embedding corpus to output directory\n",
    "    pickle.dump(short_description_corpus_embeddings, \n",
    "        open((\"short_description_corpus_data.pkl\"),\"wb\")\n",
    "    )\n",
    "    \n",
    "    pickle.dump(cause_object_corpus_embeddings, \n",
    "        open((\"cause_object_corpus_data.pkl\"),\"wb\")\n",
    "    )"
   ]
  },
  {
   "cell_type": "code",
   "execution_count": 3,
   "id": "50ded780",
   "metadata": {},
   "outputs": [
    {
     "name": "stderr",
     "output_type": "stream",
     "text": [
      "Xet Storage is enabled for this repo, but the 'hf_xet' package is not installed. Falling back to regular HTTP download. For better performance, install the package with: `pip install huggingface_hub[hf_xet]` or `pip install hf_xet`\n"
     ]
    }
   ],
   "source": [
    "main()"
   ]
  }
 ],
 "metadata": {
  "kernelspec": {
   "display_name": "fdk_env",
   "language": "python",
   "name": "python3"
  },
  "language_info": {
   "codemirror_mode": {
    "name": "ipython",
    "version": 3
   },
   "file_extension": ".py",
   "mimetype": "text/x-python",
   "name": "python",
   "nbconvert_exporter": "python",
   "pygments_lexer": "ipython3",
   "version": "3.9.21"
  }
 },
 "nbformat": 4,
 "nbformat_minor": 5
}
