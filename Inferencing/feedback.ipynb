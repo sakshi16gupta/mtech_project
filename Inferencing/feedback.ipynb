{
 "cells": [
  {
   "cell_type": "code",
   "execution_count": 4,
   "id": "67422c2e",
   "metadata": {},
   "outputs": [],
   "source": [
    "import importlib\n",
    "import json\n",
    "import yaml\n",
    "import os\n",
    "from yaml.loader import SafeLoader\n",
    "from dataclasses import dataclass\n",
    "import pandas as pd"
   ]
  },
  {
   "cell_type": "code",
   "execution_count": 5,
   "id": "ae2aea05",
   "metadata": {},
   "outputs": [],
   "source": [
    "@dataclass\n",
    "class FeedbackResponse:\n",
    "    \n",
    "    message: str = \"\"\n",
    "    query_id: str = \"\"                     \n",
    "    error_code: int = 0 \n",
    "    error_msg: str = \"Success\"\n",
    "\n",
    "    def feedback_response(self):\n",
    "        return json.dumps( \n",
    "            {\n",
    "                \"fdk_response\": { \n",
    "                    \"query_id\": self.query_id, \n",
    "                    \"message\": self.message,\n",
    "                    },\n",
    "                \"error\": {\n",
    "                    \"error_code\": self.error_code,\n",
    "                    \"error_message\": self.error_msg\n",
    "                    }\n",
    "            }\n",
    "    ) "
   ]
  },
  {
   "cell_type": "code",
   "execution_count": 6,
   "id": "6a8a699b",
   "metadata": {},
   "outputs": [],
   "source": [
    "class TenantFeedbackClass:\n",
    "    def __init__(self):\n",
    "        pass\n",
    "    def tenant_run(self,filename,request_data):\n",
    "        # Reading the feedback data file from CDL\n",
    "        # Reading all CSV files in the directory and merging them into a single DataFrame\n",
    "        feedback_data = pd.read_csv(filename)\n",
    "\n",
    "        #Updating the CDL data according to query_id\n",
    "        feedback_data.loc[feedback_data[\"Query_ID\"] == request_data[\"query_id\"], [\"Feedback\",\"Rating\"]] = \\\n",
    "                request_data[\"feedback\"][\"description\"],request_data[\"feedback\"][\"rating\"]\n",
    "        feedback_data.to_csv(filename, index=False)\n",
    "        "
   ]
  },
  {
   "cell_type": "code",
   "execution_count": 7,
   "id": "a3001ccc",
   "metadata": {},
   "outputs": [],
   "source": [
    "def run(review_data):\n",
    "    res = FeedbackResponse()\n",
    "    request_data = dict()\n",
    "\n",
    "    try:\n",
    "        # Response data extraction\n",
    "        request_data = json.loads(review_data)[\"fdk_request\"]\n",
    "\n",
    "        # Generating dynamic path\n",
    "        query_date = str(request_data[\"query_id\"]).split(\"-\")[-1]\n",
    "        file_directory = \"./prediction_\"+query_date + '.csv'\n",
    "        # tenant specific invoke of run function\n",
    "        tenant = TenantFeedbackClass()\n",
    "        tenant.tenant_run(file_directory, request_data)\n",
    "\n",
    "        # assigning values to response object\n",
    "        res.message = \"Thanks you for your feedback\"\n",
    "        res.query_id = request_data[\"query_id\"]\n",
    "        return res.feedback_response()\n",
    "\n",
    "    except Exception as error:\n",
    "        # General Exception handling for error message capturing\n",
    "        res.query_id = request_data[\"query_id\"]\n",
    "        res.message = str(error)\n",
    "        res.error_code = 500\n",
    "        res.error_msg = \"Python Error\"\n",
    "        return res.feedback_response()"
   ]
  },
  {
   "cell_type": "code",
   "execution_count": 9,
   "id": "084632dc",
   "metadata": {},
   "outputs": [
    {
     "name": "stderr",
     "output_type": "stream",
     "text": [
      "/tmp/ipykernel_106263/53252584.py:10: FutureWarning: Setting an item of incompatible dtype is deprecated and will raise an error in a future version of pandas. Value 'feedback' has dtype incompatible with float64, please explicitly cast to a compatible dtype first.\n",
      "  feedback_data.loc[feedback_data[\"Query_ID\"] == request_data[\"query_id\"], [\"Feedback\",\"Rating\"]] = \\\n"
     ]
    },
    {
     "data": {
      "text/plain": [
       "'{\"fdk_response\": {\"query_id\": \"8357dff9-1ab1-458b-bc30-bd193ae820d6-20250409\", \"message\": \"Thanks you for your feedback\"}, \"error\": {\"error_code\": 0, \"error_message\": \"Success\"}}'"
      ]
     },
     "execution_count": 9,
     "metadata": {},
     "output_type": "execute_result"
    }
   ],
   "source": [
    "run(json.dumps({\n",
    "    \"fdk_request\": {\n",
    "        \"query_id\": \"8357dff9-1ab1-458b-bc30-bd193ae820d6-20250409\",\n",
    "        \"query\": [\n",
    "            \"machine not working\"\n",
    "        ],\n",
    "        \"feedback\": {\n",
    "            \"description\": \"feedback\",\n",
    "            \"rating\": 5\n",
    "        }\n",
    "    }\n",
    "}) )"
   ]
  }
 ],
 "metadata": {
  "kernelspec": {
   "display_name": "fdk_env",
   "language": "python",
   "name": "python3"
  },
  "language_info": {
   "codemirror_mode": {
    "name": "ipython",
    "version": 3
   },
   "file_extension": ".py",
   "mimetype": "text/x-python",
   "name": "python",
   "nbconvert_exporter": "python",
   "pygments_lexer": "ipython3",
   "version": "3.9.21"
  }
 },
 "nbformat": 4,
 "nbformat_minor": 5
}
